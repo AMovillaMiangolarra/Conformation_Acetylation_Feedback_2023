{
 "cells": [
  {
   "cell_type": "code",
   "execution_count": 2,
   "id": "35c45df5-35bd-4c07-936c-ebb254de9b11",
   "metadata": {},
   "outputs": [],
   "source": [
    "using DelimitedFiles"
   ]
  },
  {
   "cell_type": "code",
   "execution_count": 84,
   "id": "e4413945-88fc-4eda-999c-690cb5b7f0c0",
   "metadata": {
    "collapsed": true,
    "jupyter": {
     "outputs_hidden": true
    },
    "tags": []
   },
   "outputs": [
    {
     "data": {
      "text/plain": [
       "5-element Vector{String}:\n",
       " \"DSSY695_SIR+\"\n",
       " \"DSSY718_H4K16Q\"\n",
       " \"DSSY719_H3K79L\"\n",
       " \"DSSY724_sir2N345A\"\n",
       " \"DSSY739_sir3bah∆\""
      ]
     },
     "execution_count": 84,
     "metadata": {},
     "output_type": "execute_result"
    }
   ],
   "source": [
    "a=[\"DSSY695_SIR+\", \"DSSY718_H4K16Q\", \"DSSY719_H3K79L\", \"DSSY724_sir2N345A\", \"DSSY739_sir3bah∆\"]"
   ]
  },
  {
   "cell_type": "code",
   "execution_count": 241,
   "id": "b3a3c364-3718-436e-973f-71eba96d0293",
   "metadata": {},
   "outputs": [],
   "source": [
    "AUCbulk=zeros(5,2)\n",
    "AUCE=zeros(5,2)\n",
    "j=0\n",
    "for char in a\n",
    "    j=j+1\n",
    "    k=0\n",
    "    for char2 in [\"1\",\"2\"]\n",
    "        k=k+1\n",
    "        fullbed=readdlm(\"HMR bedgraphs\\\\\"*char*\"_Rep\"*char2*\".bedgraph\")\n",
    "        chrIII=fullbed[fullbed[:,1].==\"III\",:]\n",
    "        Esil=chrIII[chrIII[:,2].>286622 .&& chrIII[:,2].<287122,:]\n",
    "        for i in 1:size(Esil)[1]\n",
    "            if Esil[i,4]<1.0\n",
    "                Esil[i,4]=0.0\n",
    "            else\n",
    "                Esil[i,4]=Esil[i,4]-1.0\n",
    "            end\n",
    "        end\n",
    "        HMRbulk=chrIII[chrIII[:,2].>287122 .&& chrIII[:,2].<288941,:]\n",
    "        for i in 1:size(HMRbulk)[1]\n",
    "            if HMRbulk[i,4]<1.0\n",
    "                HMRbulk[i,4]=0.0\n",
    "            else\n",
    "                HMRbulk[i,4]=HMRbulk[i,4]-1.0\n",
    "            end\n",
    "        end\n",
    "        #Measure AUC.\n",
    "        AUC=0.0 \n",
    "        for i in 1:(size(HMRbulk)[1]-1)\n",
    "        #Units bp*ChIP.A.U.\n",
    "        AUC=AUC+0.5*(HMRbulk[i,4]+HMRbulk[i+1,4])\n",
    "        end   \n",
    "        AUCbulk[j,k]=AUC\n",
    "        #Now the silencer\n",
    "        AUC=0.0 \n",
    "        for i in 1:(size(Esil)[1]-1)\n",
    "        #Units bp*ChIP.A.U.\n",
    "        AUC=AUC+0.5*(Esil[i,4]+Esil[i+1,4])\n",
    "        end   \n",
    "        AUCE[j,k]=AUC\n",
    "    end\n",
    "end\n",
    "for k in 1:2   \n",
    "    normbulk=AUCbulk[1,k]\n",
    "    normE=AUCE[1,k]\n",
    "    for i in 1:size(AUCbulk)[1]\n",
    "        AUCbulk[i,k]=AUCbulk[i,k]/normbulk\n",
    "        AUCE[i,k]=AUCE[i,k]/normE\n",
    "    end\n",
    "end"
   ]
  },
  {
   "cell_type": "code",
   "execution_count": 242,
   "id": "7bc12348-2f83-43df-9737-64bc65063c11",
   "metadata": {},
   "outputs": [],
   "source": [
    "using Statistics\n",
    "meanE=zeros(5)\n",
    "meanbulk=zeros(5)\n",
    "devE=zeros(5)\n",
    "devbulk=zeros(5)\n",
    "for i in 1:5\n",
    "    meanE[i]=mean(AUCE[i,:])\n",
    "    meanbulk[i]=mean(AUCbulk[i,:])\n",
    "    devE[i]=std(AUCE[i,:])\n",
    "    devbulk[i]=std(AUCbulk[i,:])\n",
    "end"
   ]
  },
  {
   "cell_type": "code",
   "execution_count": 243,
   "id": "da3b2f4a-c556-4199-9aca-c325f18fd955",
   "metadata": {},
   "outputs": [],
   "source": [
    "outputMutants=transpose([transpose(meanbulk);transpose(meanE);transpose(devbulk);transpose(devE)])\n",
    "writedlm(\"bulk_vs_HMRE_xyerror.txt\",outputMutants)"
   ]
  },
  {
   "cell_type": "code",
   "execution_count": 195,
   "id": "a5c9db81-81ab-4b08-a23d-2f7a73e2a331",
   "metadata": {
    "tags": []
   },
   "outputs": [
    {
     "data": {
      "image/svg+xml": [
       "<?xml version=\"1.0\" encoding=\"utf-8\"?>\n",
       "<svg xmlns=\"http://www.w3.org/2000/svg\" xmlns:xlink=\"http://www.w3.org/1999/xlink\" width=\"600\" height=\"400\" viewBox=\"0 0 2400 1600\">\n",
       "<defs>\n",
       "  <clipPath id=\"clip230\">\n",
       "    <rect x=\"0\" y=\"0\" width=\"2400\" height=\"1600\"/>\n",
       "  </clipPath>\n",
       "</defs>\n",
       "<path clip-path=\"url(#clip230)\" d=\"\n",
       "M0 1600 L2400 1600 L2400 0 L0 0  Z\n",
       "  \" fill=\"#ffffff\" fill-rule=\"evenodd\" fill-opacity=\"1\"/>\n",
       "<defs>\n",
       "  <clipPath id=\"clip231\">\n",
       "    <rect x=\"480\" y=\"0\" width=\"1681\" height=\"1600\"/>\n",
       "  </clipPath>\n",
       "</defs>\n",
       "<path clip-path=\"url(#clip230)\" d=\"\n",
       "M156.598 1486.45 L2352.76 1486.45 L2352.76 47.2441 L156.598 47.2441  Z\n",
       "  \" fill=\"#ffffff\" fill-rule=\"evenodd\" fill-opacity=\"1\"/>\n",
       "<defs>\n",
       "  <clipPath id=\"clip232\">\n",
       "    <rect x=\"156\" y=\"47\" width=\"2197\" height=\"1440\"/>\n",
       "  </clipPath>\n",
       "</defs>\n",
       "<polyline clip-path=\"url(#clip232)\" style=\"stroke:#000000; stroke-linecap:round; stroke-linejoin:round; stroke-width:2; stroke-opacity:0.1; fill:none\" points=\"\n",
       "  184.191,1486.45 184.191,47.2441 \n",
       "  \"/>\n",
       "<polyline clip-path=\"url(#clip232)\" style=\"stroke:#000000; stroke-linecap:round; stroke-linejoin:round; stroke-width:2; stroke-opacity:0.1; fill:none\" points=\"\n",
       "  710.793,1486.45 710.793,47.2441 \n",
       "  \"/>\n",
       "<polyline clip-path=\"url(#clip232)\" style=\"stroke:#000000; stroke-linecap:round; stroke-linejoin:round; stroke-width:2; stroke-opacity:0.1; fill:none\" points=\"\n",
       "  1237.4,1486.45 1237.4,47.2441 \n",
       "  \"/>\n",
       "<polyline clip-path=\"url(#clip232)\" style=\"stroke:#000000; stroke-linecap:round; stroke-linejoin:round; stroke-width:2; stroke-opacity:0.1; fill:none\" points=\"\n",
       "  1764,1486.45 1764,47.2441 \n",
       "  \"/>\n",
       "<polyline clip-path=\"url(#clip232)\" style=\"stroke:#000000; stroke-linecap:round; stroke-linejoin:round; stroke-width:2; stroke-opacity:0.1; fill:none\" points=\"\n",
       "  2290.6,1486.45 2290.6,47.2441 \n",
       "  \"/>\n",
       "<polyline clip-path=\"url(#clip230)\" style=\"stroke:#000000; stroke-linecap:round; stroke-linejoin:round; stroke-width:4; stroke-opacity:1; fill:none\" points=\"\n",
       "  156.598,1486.45 2352.76,1486.45 \n",
       "  \"/>\n",
       "<polyline clip-path=\"url(#clip230)\" style=\"stroke:#000000; stroke-linecap:round; stroke-linejoin:round; stroke-width:4; stroke-opacity:1; fill:none\" points=\"\n",
       "  184.191,1486.45 184.191,1467.55 \n",
       "  \"/>\n",
       "<polyline clip-path=\"url(#clip230)\" style=\"stroke:#000000; stroke-linecap:round; stroke-linejoin:round; stroke-width:4; stroke-opacity:1; fill:none\" points=\"\n",
       "  710.793,1486.45 710.793,1467.55 \n",
       "  \"/>\n",
       "<polyline clip-path=\"url(#clip230)\" style=\"stroke:#000000; stroke-linecap:round; stroke-linejoin:round; stroke-width:4; stroke-opacity:1; fill:none\" points=\"\n",
       "  1237.4,1486.45 1237.4,1467.55 \n",
       "  \"/>\n",
       "<polyline clip-path=\"url(#clip230)\" style=\"stroke:#000000; stroke-linecap:round; stroke-linejoin:round; stroke-width:4; stroke-opacity:1; fill:none\" points=\"\n",
       "  1764,1486.45 1764,1467.55 \n",
       "  \"/>\n",
       "<polyline clip-path=\"url(#clip230)\" style=\"stroke:#000000; stroke-linecap:round; stroke-linejoin:round; stroke-width:4; stroke-opacity:1; fill:none\" points=\"\n",
       "  2290.6,1486.45 2290.6,1467.55 \n",
       "  \"/>\n",
       "<path clip-path=\"url(#clip230)\" d=\"M146.494 1517.37 Q142.883 1517.37 141.054 1520.93 Q139.249 1524.47 139.249 1531.6 Q139.249 1538.71 141.054 1542.27 Q142.883 1545.82 146.494 1545.82 Q150.128 1545.82 151.934 1542.27 Q153.763 1538.71 153.763 1531.6 Q153.763 1524.47 151.934 1520.93 Q150.128 1517.37 146.494 1517.37 M146.494 1513.66 Q152.304 1513.66 155.36 1518.27 Q158.439 1522.85 158.439 1531.6 Q158.439 1540.33 155.36 1544.94 Q152.304 1549.52 146.494 1549.52 Q140.684 1549.52 137.605 1544.94 Q134.55 1540.33 134.55 1531.6 Q134.55 1522.85 137.605 1518.27 Q140.684 1513.66 146.494 1513.66 Z\" fill=\"#000000\" fill-rule=\"evenodd\" fill-opacity=\"1\" /><path clip-path=\"url(#clip230)\" d=\"M166.656 1542.97 L171.54 1542.97 L171.54 1548.85 L166.656 1548.85 L166.656 1542.97 Z\" fill=\"#000000\" fill-rule=\"evenodd\" fill-opacity=\"1\" /><path clip-path=\"url(#clip230)\" d=\"M191.725 1517.37 Q188.114 1517.37 186.286 1520.93 Q184.48 1524.47 184.48 1531.6 Q184.48 1538.71 186.286 1542.27 Q188.114 1545.82 191.725 1545.82 Q195.36 1545.82 197.165 1542.27 Q198.994 1538.71 198.994 1531.6 Q198.994 1524.47 197.165 1520.93 Q195.36 1517.37 191.725 1517.37 M191.725 1513.66 Q197.536 1513.66 200.591 1518.27 Q203.67 1522.85 203.67 1531.6 Q203.67 1540.33 200.591 1544.94 Q197.536 1549.52 191.725 1549.52 Q185.915 1549.52 182.837 1544.94 Q179.781 1540.33 179.781 1531.6 Q179.781 1522.85 182.837 1518.27 Q185.915 1513.66 191.725 1513.66 Z\" fill=\"#000000\" fill-rule=\"evenodd\" fill-opacity=\"1\" /><path clip-path=\"url(#clip230)\" d=\"M221.887 1517.37 Q218.276 1517.37 216.448 1520.93 Q214.642 1524.47 214.642 1531.6 Q214.642 1538.71 216.448 1542.27 Q218.276 1545.82 221.887 1545.82 Q225.522 1545.82 227.327 1542.27 Q229.156 1538.71 229.156 1531.6 Q229.156 1524.47 227.327 1520.93 Q225.522 1517.37 221.887 1517.37 M221.887 1513.66 Q227.698 1513.66 230.753 1518.27 Q233.832 1522.85 233.832 1531.6 Q233.832 1540.33 230.753 1544.94 Q227.698 1549.52 221.887 1549.52 Q216.077 1549.52 212.999 1544.94 Q209.943 1540.33 209.943 1531.6 Q209.943 1522.85 212.999 1518.27 Q216.077 1513.66 221.887 1513.66 Z\" fill=\"#000000\" fill-rule=\"evenodd\" fill-opacity=\"1\" /><path clip-path=\"url(#clip230)\" d=\"M673.594 1517.37 Q669.983 1517.37 668.155 1520.93 Q666.349 1524.47 666.349 1531.6 Q666.349 1538.71 668.155 1542.27 Q669.983 1545.82 673.594 1545.82 Q677.229 1545.82 679.034 1542.27 Q680.863 1538.71 680.863 1531.6 Q680.863 1524.47 679.034 1520.93 Q677.229 1517.37 673.594 1517.37 M673.594 1513.66 Q679.405 1513.66 682.46 1518.27 Q685.539 1522.85 685.539 1531.6 Q685.539 1540.33 682.46 1544.94 Q679.405 1549.52 673.594 1549.52 Q667.784 1549.52 664.706 1544.94 Q661.65 1540.33 661.65 1531.6 Q661.65 1522.85 664.706 1518.27 Q667.784 1513.66 673.594 1513.66 Z\" fill=\"#000000\" fill-rule=\"evenodd\" fill-opacity=\"1\" /><path clip-path=\"url(#clip230)\" d=\"M693.756 1542.97 L698.641 1542.97 L698.641 1548.85 L693.756 1548.85 L693.756 1542.97 Z\" fill=\"#000000\" fill-rule=\"evenodd\" fill-opacity=\"1\" /><path clip-path=\"url(#clip230)\" d=\"M712.853 1544.91 L729.173 1544.91 L729.173 1548.85 L707.228 1548.85 L707.228 1544.91 Q709.89 1542.16 714.474 1537.53 Q719.08 1532.88 720.261 1531.53 Q722.506 1529.01 723.386 1527.27 Q724.289 1525.51 724.289 1523.82 Q724.289 1521.07 722.344 1519.33 Q720.423 1517.6 717.321 1517.6 Q715.122 1517.6 712.668 1518.36 Q710.238 1519.13 707.46 1520.68 L707.46 1515.95 Q710.284 1514.82 712.738 1514.24 Q715.191 1513.66 717.228 1513.66 Q722.599 1513.66 725.793 1516.35 Q728.988 1519.03 728.988 1523.52 Q728.988 1525.65 728.177 1527.57 Q727.39 1529.47 725.284 1532.07 Q724.705 1532.74 721.603 1535.95 Q718.502 1539.15 712.853 1544.91 Z\" fill=\"#000000\" fill-rule=\"evenodd\" fill-opacity=\"1\" /><path clip-path=\"url(#clip230)\" d=\"M739.034 1514.29 L757.39 1514.29 L757.39 1518.22 L743.316 1518.22 L743.316 1526.7 Q744.335 1526.35 745.353 1526.19 Q746.372 1526 747.39 1526 Q753.177 1526 756.557 1529.17 Q759.936 1532.34 759.936 1537.76 Q759.936 1543.34 756.464 1546.44 Q752.992 1549.52 746.673 1549.52 Q744.497 1549.52 742.228 1549.15 Q739.983 1548.78 737.575 1548.04 L737.575 1543.34 Q739.659 1544.47 741.881 1545.03 Q744.103 1545.58 746.58 1545.58 Q750.585 1545.58 752.923 1543.48 Q755.261 1541.37 755.261 1537.76 Q755.261 1534.15 752.923 1532.04 Q750.585 1529.94 746.58 1529.94 Q744.705 1529.94 742.83 1530.35 Q740.978 1530.77 739.034 1531.65 L739.034 1514.29 Z\" fill=\"#000000\" fill-rule=\"evenodd\" fill-opacity=\"1\" /><path clip-path=\"url(#clip230)\" d=\"M1199.7 1517.37 Q1196.09 1517.37 1194.26 1520.93 Q1192.45 1524.47 1192.45 1531.6 Q1192.45 1538.71 1194.26 1542.27 Q1196.09 1545.82 1199.7 1545.82 Q1203.33 1545.82 1205.14 1542.27 Q1206.97 1538.71 1206.97 1531.6 Q1206.97 1524.47 1205.14 1520.93 Q1203.33 1517.37 1199.7 1517.37 M1199.7 1513.66 Q1205.51 1513.66 1208.56 1518.27 Q1211.64 1522.85 1211.64 1531.6 Q1211.64 1540.33 1208.56 1544.94 Q1205.51 1549.52 1199.7 1549.52 Q1193.89 1549.52 1190.81 1544.94 Q1187.75 1540.33 1187.75 1531.6 Q1187.75 1522.85 1190.81 1518.27 Q1193.89 1513.66 1199.7 1513.66 Z\" fill=\"#000000\" fill-rule=\"evenodd\" fill-opacity=\"1\" /><path clip-path=\"url(#clip230)\" d=\"M1219.86 1542.97 L1224.75 1542.97 L1224.75 1548.85 L1219.86 1548.85 L1219.86 1542.97 Z\" fill=\"#000000\" fill-rule=\"evenodd\" fill-opacity=\"1\" /><path clip-path=\"url(#clip230)\" d=\"M1234.98 1514.29 L1253.33 1514.29 L1253.33 1518.22 L1239.26 1518.22 L1239.26 1526.7 Q1240.28 1526.35 1241.3 1526.19 Q1242.31 1526 1243.33 1526 Q1249.12 1526 1252.5 1529.17 Q1255.88 1532.34 1255.88 1537.76 Q1255.88 1543.34 1252.41 1546.44 Q1248.93 1549.52 1242.62 1549.52 Q1240.44 1549.52 1238.17 1549.15 Q1235.93 1548.78 1233.52 1548.04 L1233.52 1543.34 Q1235.6 1544.47 1237.82 1545.03 Q1240.05 1545.58 1242.52 1545.58 Q1246.53 1545.58 1248.87 1543.48 Q1251.2 1541.37 1251.2 1537.76 Q1251.2 1534.15 1248.87 1532.04 Q1246.53 1529.94 1242.52 1529.94 Q1240.65 1529.94 1238.77 1530.35 Q1236.92 1530.77 1234.98 1531.65 L1234.98 1514.29 Z\" fill=\"#000000\" fill-rule=\"evenodd\" fill-opacity=\"1\" /><path clip-path=\"url(#clip230)\" d=\"M1275.09 1517.37 Q1271.48 1517.37 1269.65 1520.93 Q1267.85 1524.47 1267.85 1531.6 Q1267.85 1538.71 1269.65 1542.27 Q1271.48 1545.82 1275.09 1545.82 Q1278.73 1545.82 1280.53 1542.27 Q1282.36 1538.71 1282.36 1531.6 Q1282.36 1524.47 1280.53 1520.93 Q1278.73 1517.37 1275.09 1517.37 M1275.09 1513.66 Q1280.9 1513.66 1283.96 1518.27 Q1287.04 1522.85 1287.04 1531.6 Q1287.04 1540.33 1283.96 1544.94 Q1280.9 1549.52 1275.09 1549.52 Q1269.28 1549.52 1266.2 1544.94 Q1263.15 1540.33 1263.15 1531.6 Q1263.15 1522.85 1266.2 1518.27 Q1269.28 1513.66 1275.09 1513.66 Z\" fill=\"#000000\" fill-rule=\"evenodd\" fill-opacity=\"1\" /><path clip-path=\"url(#clip230)\" d=\"M1726.8 1517.37 Q1723.19 1517.37 1721.36 1520.93 Q1719.55 1524.47 1719.55 1531.6 Q1719.55 1538.71 1721.36 1542.27 Q1723.19 1545.82 1726.8 1545.82 Q1730.43 1545.82 1732.24 1542.27 Q1734.07 1538.71 1734.07 1531.6 Q1734.07 1524.47 1732.24 1520.93 Q1730.43 1517.37 1726.8 1517.37 M1726.8 1513.66 Q1732.61 1513.66 1735.66 1518.27 Q1738.74 1522.85 1738.74 1531.6 Q1738.74 1540.33 1735.66 1544.94 Q1732.61 1549.52 1726.8 1549.52 Q1720.99 1549.52 1717.91 1544.94 Q1714.85 1540.33 1714.85 1531.6 Q1714.85 1522.85 1717.91 1518.27 Q1720.99 1513.66 1726.8 1513.66 Z\" fill=\"#000000\" fill-rule=\"evenodd\" fill-opacity=\"1\" /><path clip-path=\"url(#clip230)\" d=\"M1746.96 1542.97 L1751.85 1542.97 L1751.85 1548.85 L1746.96 1548.85 L1746.96 1542.97 Z\" fill=\"#000000\" fill-rule=\"evenodd\" fill-opacity=\"1\" /><path clip-path=\"url(#clip230)\" d=\"M1760.85 1514.29 L1783.07 1514.29 L1783.07 1516.28 L1770.53 1548.85 L1765.64 1548.85 L1777.45 1518.22 L1760.85 1518.22 L1760.85 1514.29 Z\" fill=\"#000000\" fill-rule=\"evenodd\" fill-opacity=\"1\" /><path clip-path=\"url(#clip230)\" d=\"M1792.24 1514.29 L1810.6 1514.29 L1810.6 1518.22 L1796.52 1518.22 L1796.52 1526.7 Q1797.54 1526.35 1798.56 1526.19 Q1799.58 1526 1800.6 1526 Q1806.38 1526 1809.76 1529.17 Q1813.14 1532.34 1813.14 1537.76 Q1813.14 1543.34 1809.67 1546.44 Q1806.2 1549.52 1799.88 1549.52 Q1797.7 1549.52 1795.43 1549.15 Q1793.19 1548.78 1790.78 1548.04 L1790.78 1543.34 Q1792.86 1544.47 1795.09 1545.03 Q1797.31 1545.58 1799.78 1545.58 Q1803.79 1545.58 1806.13 1543.48 Q1808.47 1541.37 1808.47 1537.76 Q1808.47 1534.15 1806.13 1532.04 Q1803.79 1529.94 1799.78 1529.94 Q1797.91 1529.94 1796.03 1530.35 Q1794.18 1530.77 1792.24 1531.65 L1792.24 1514.29 Z\" fill=\"#000000\" fill-rule=\"evenodd\" fill-opacity=\"1\" /><path clip-path=\"url(#clip230)\" d=\"M2242.67 1544.91 L2250.31 1544.91 L2250.31 1518.55 L2242 1520.21 L2242 1515.95 L2250.27 1514.29 L2254.94 1514.29 L2254.94 1544.91 L2262.58 1544.91 L2262.58 1548.85 L2242.67 1548.85 L2242.67 1544.91 Z\" fill=\"#000000\" fill-rule=\"evenodd\" fill-opacity=\"1\" /><path clip-path=\"url(#clip230)\" d=\"M2272.02 1542.97 L2276.91 1542.97 L2276.91 1548.85 L2272.02 1548.85 L2272.02 1542.97 Z\" fill=\"#000000\" fill-rule=\"evenodd\" fill-opacity=\"1\" /><path clip-path=\"url(#clip230)\" d=\"M2297.09 1517.37 Q2293.48 1517.37 2291.65 1520.93 Q2289.85 1524.47 2289.85 1531.6 Q2289.85 1538.71 2291.65 1542.27 Q2293.48 1545.82 2297.09 1545.82 Q2300.73 1545.82 2302.53 1542.27 Q2304.36 1538.71 2304.36 1531.6 Q2304.36 1524.47 2302.53 1520.93 Q2300.73 1517.37 2297.09 1517.37 M2297.09 1513.66 Q2302.9 1513.66 2305.96 1518.27 Q2309.04 1522.85 2309.04 1531.6 Q2309.04 1540.33 2305.96 1544.94 Q2302.9 1549.52 2297.09 1549.52 Q2291.28 1549.52 2288.2 1544.94 Q2285.15 1540.33 2285.15 1531.6 Q2285.15 1522.85 2288.2 1518.27 Q2291.28 1513.66 2297.09 1513.66 Z\" fill=\"#000000\" fill-rule=\"evenodd\" fill-opacity=\"1\" /><path clip-path=\"url(#clip230)\" d=\"M2327.26 1517.37 Q2323.64 1517.37 2321.82 1520.93 Q2320.01 1524.47 2320.01 1531.6 Q2320.01 1538.71 2321.82 1542.27 Q2323.64 1545.82 2327.26 1545.82 Q2330.89 1545.82 2332.7 1542.27 Q2334.52 1538.71 2334.52 1531.6 Q2334.52 1524.47 2332.7 1520.93 Q2330.89 1517.37 2327.26 1517.37 M2327.26 1513.66 Q2333.07 1513.66 2336.12 1518.27 Q2339.2 1522.85 2339.2 1531.6 Q2339.2 1540.33 2336.12 1544.94 Q2333.07 1549.52 2327.26 1549.52 Q2321.45 1549.52 2318.37 1544.94 Q2315.31 1540.33 2315.31 1531.6 Q2315.31 1522.85 2318.37 1518.27 Q2321.45 1513.66 2327.26 1513.66 Z\" fill=\"#000000\" fill-rule=\"evenodd\" fill-opacity=\"1\" /><polyline clip-path=\"url(#clip232)\" style=\"stroke:#000000; stroke-linecap:round; stroke-linejoin:round; stroke-width:2; stroke-opacity:0.1; fill:none\" points=\"\n",
       "  156.598,1228.72 2352.76,1228.72 \n",
       "  \"/>\n",
       "<polyline clip-path=\"url(#clip232)\" style=\"stroke:#000000; stroke-linecap:round; stroke-linejoin:round; stroke-width:2; stroke-opacity:0.1; fill:none\" points=\"\n",
       "  156.598,943.533 2352.76,943.533 \n",
       "  \"/>\n",
       "<polyline clip-path=\"url(#clip232)\" style=\"stroke:#000000; stroke-linecap:round; stroke-linejoin:round; stroke-width:2; stroke-opacity:0.1; fill:none\" points=\"\n",
       "  156.598,658.347 2352.76,658.347 \n",
       "  \"/>\n",
       "<polyline clip-path=\"url(#clip232)\" style=\"stroke:#000000; stroke-linecap:round; stroke-linejoin:round; stroke-width:2; stroke-opacity:0.1; fill:none\" points=\"\n",
       "  156.598,373.162 2352.76,373.162 \n",
       "  \"/>\n",
       "<polyline clip-path=\"url(#clip232)\" style=\"stroke:#000000; stroke-linecap:round; stroke-linejoin:round; stroke-width:2; stroke-opacity:0.1; fill:none\" points=\"\n",
       "  156.598,87.9763 2352.76,87.9763 \n",
       "  \"/>\n",
       "<polyline clip-path=\"url(#clip230)\" style=\"stroke:#000000; stroke-linecap:round; stroke-linejoin:round; stroke-width:4; stroke-opacity:1; fill:none\" points=\"\n",
       "  156.598,1486.45 156.598,47.2441 \n",
       "  \"/>\n",
       "<polyline clip-path=\"url(#clip230)\" style=\"stroke:#000000; stroke-linecap:round; stroke-linejoin:round; stroke-width:4; stroke-opacity:1; fill:none\" points=\"\n",
       "  156.598,1228.72 175.496,1228.72 \n",
       "  \"/>\n",
       "<polyline clip-path=\"url(#clip230)\" style=\"stroke:#000000; stroke-linecap:round; stroke-linejoin:round; stroke-width:4; stroke-opacity:1; fill:none\" points=\"\n",
       "  156.598,943.533 175.496,943.533 \n",
       "  \"/>\n",
       "<polyline clip-path=\"url(#clip230)\" style=\"stroke:#000000; stroke-linecap:round; stroke-linejoin:round; stroke-width:4; stroke-opacity:1; fill:none\" points=\"\n",
       "  156.598,658.347 175.496,658.347 \n",
       "  \"/>\n",
       "<polyline clip-path=\"url(#clip230)\" style=\"stroke:#000000; stroke-linecap:round; stroke-linejoin:round; stroke-width:4; stroke-opacity:1; fill:none\" points=\"\n",
       "  156.598,373.162 175.496,373.162 \n",
       "  \"/>\n",
       "<polyline clip-path=\"url(#clip230)\" style=\"stroke:#000000; stroke-linecap:round; stroke-linejoin:round; stroke-width:4; stroke-opacity:1; fill:none\" points=\"\n",
       "  156.598,87.9763 175.496,87.9763 \n",
       "  \"/>\n",
       "<path clip-path=\"url(#clip230)\" d=\"M65.0198 1214.52 Q61.4087 1214.52 59.58 1218.08 Q57.7745 1221.62 57.7745 1228.75 Q57.7745 1235.86 59.58 1239.42 Q61.4087 1242.97 65.0198 1242.97 Q68.6541 1242.97 70.4596 1239.42 Q72.2883 1235.86 72.2883 1228.75 Q72.2883 1221.62 70.4596 1218.08 Q68.6541 1214.52 65.0198 1214.52 M65.0198 1210.81 Q70.83 1210.81 73.8855 1215.42 Q76.9642 1220 76.9642 1228.75 Q76.9642 1237.48 73.8855 1242.09 Q70.83 1246.67 65.0198 1246.67 Q59.2097 1246.67 56.131 1242.09 Q53.0754 1237.48 53.0754 1228.75 Q53.0754 1220 56.131 1215.42 Q59.2097 1210.81 65.0198 1210.81 Z\" fill=\"#000000\" fill-rule=\"evenodd\" fill-opacity=\"1\" /><path clip-path=\"url(#clip230)\" d=\"M85.1818 1240.12 L90.066 1240.12 L90.066 1246 L85.1818 1246 L85.1818 1240.12 Z\" fill=\"#000000\" fill-rule=\"evenodd\" fill-opacity=\"1\" /><path clip-path=\"url(#clip230)\" d=\"M104.279 1242.06 L120.598 1242.06 L120.598 1246 L98.6539 1246 L98.6539 1242.06 Q101.316 1239.31 105.899 1234.68 Q110.506 1230.03 111.686 1228.68 Q113.932 1226.16 114.811 1224.42 Q115.714 1222.67 115.714 1220.98 Q115.714 1218.22 113.77 1216.48 Q111.848 1214.75 108.746 1214.75 Q106.547 1214.75 104.094 1215.51 Q101.663 1216.28 98.8854 1217.83 L98.8854 1213.11 Q101.709 1211.97 104.163 1211.39 Q106.617 1210.81 108.654 1210.81 Q114.024 1210.81 117.219 1213.5 Q120.413 1216.18 120.413 1220.67 Q120.413 1222.8 119.603 1224.73 Q118.816 1226.62 116.709 1229.22 Q116.131 1229.89 113.029 1233.11 Q109.927 1236.3 104.279 1242.06 Z\" fill=\"#000000\" fill-rule=\"evenodd\" fill-opacity=\"1\" /><path clip-path=\"url(#clip230)\" d=\"M62.9365 929.332 Q59.3254 929.332 57.4967 932.896 Q55.6912 936.438 55.6912 943.568 Q55.6912 950.674 57.4967 954.239 Q59.3254 957.781 62.9365 957.781 Q66.5707 957.781 68.3763 954.239 Q70.205 950.674 70.205 943.568 Q70.205 936.438 68.3763 932.896 Q66.5707 929.332 62.9365 929.332 M62.9365 925.628 Q68.7467 925.628 71.8022 930.234 Q74.8809 934.818 74.8809 943.568 Q74.8809 952.294 71.8022 956.901 Q68.7467 961.484 62.9365 961.484 Q57.1264 961.484 54.0477 956.901 Q50.9921 952.294 50.9921 943.568 Q50.9921 934.818 54.0477 930.234 Q57.1264 925.628 62.9365 925.628 Z\" fill=\"#000000\" fill-rule=\"evenodd\" fill-opacity=\"1\" /><path clip-path=\"url(#clip230)\" d=\"M83.0984 954.933 L87.9827 954.933 L87.9827 960.813 L83.0984 960.813 L83.0984 954.933 Z\" fill=\"#000000\" fill-rule=\"evenodd\" fill-opacity=\"1\" /><path clip-path=\"url(#clip230)\" d=\"M111.015 930.327 L99.2095 948.776 L111.015 948.776 L111.015 930.327 M109.788 926.253 L115.668 926.253 L115.668 948.776 L120.598 948.776 L120.598 952.665 L115.668 952.665 L115.668 960.813 L111.015 960.813 L111.015 952.665 L95.4132 952.665 L95.4132 948.151 L109.788 926.253 Z\" fill=\"#000000\" fill-rule=\"evenodd\" fill-opacity=\"1\" /><path clip-path=\"url(#clip230)\" d=\"M63.2606 644.146 Q59.6495 644.146 57.8208 647.711 Q56.0152 651.253 56.0152 658.382 Q56.0152 665.489 57.8208 669.053 Q59.6495 672.595 63.2606 672.595 Q66.8948 672.595 68.7004 669.053 Q70.5291 665.489 70.5291 658.382 Q70.5291 651.253 68.7004 647.711 Q66.8948 644.146 63.2606 644.146 M63.2606 640.442 Q69.0707 640.442 72.1263 645.049 Q75.205 649.632 75.205 658.382 Q75.205 667.109 72.1263 671.715 Q69.0707 676.299 63.2606 676.299 Q57.4504 676.299 54.3717 671.715 Q51.3162 667.109 51.3162 658.382 Q51.3162 649.632 54.3717 645.049 Q57.4504 640.442 63.2606 640.442 Z\" fill=\"#000000\" fill-rule=\"evenodd\" fill-opacity=\"1\" /><path clip-path=\"url(#clip230)\" d=\"M83.4225 669.748 L88.3067 669.748 L88.3067 675.627 L83.4225 675.627 L83.4225 669.748 Z\" fill=\"#000000\" fill-rule=\"evenodd\" fill-opacity=\"1\" /><path clip-path=\"url(#clip230)\" d=\"M109.071 656.484 Q105.922 656.484 104.071 658.637 Q102.242 660.789 102.242 664.539 Q102.242 668.266 104.071 670.442 Q105.922 672.595 109.071 672.595 Q112.219 672.595 114.047 670.442 Q115.899 668.266 115.899 664.539 Q115.899 660.789 114.047 658.637 Q112.219 656.484 109.071 656.484 M118.353 641.831 L118.353 646.09 Q116.594 645.257 114.788 644.817 Q113.006 644.378 111.246 644.378 Q106.617 644.378 104.163 647.503 Q101.733 650.628 101.385 656.947 Q102.751 654.933 104.811 653.868 Q106.871 652.78 109.348 652.78 Q114.557 652.78 117.566 655.952 Q120.598 659.1 120.598 664.539 Q120.598 669.864 117.45 673.081 Q114.302 676.299 109.071 676.299 Q103.075 676.299 99.9039 671.715 Q96.7326 667.109 96.7326 658.382 Q96.7326 650.188 100.621 645.327 Q104.51 640.442 111.061 640.442 Q112.82 640.442 114.603 640.79 Q116.408 641.137 118.353 641.831 Z\" fill=\"#000000\" fill-rule=\"evenodd\" fill-opacity=\"1\" /><path clip-path=\"url(#clip230)\" d=\"M63.5152 358.961 Q59.9041 358.961 58.0754 362.525 Q56.2699 366.067 56.2699 373.197 Q56.2699 380.303 58.0754 383.868 Q59.9041 387.409 63.5152 387.409 Q67.1494 387.409 68.955 383.868 Q70.7837 380.303 70.7837 373.197 Q70.7837 366.067 68.955 362.525 Q67.1494 358.961 63.5152 358.961 M63.5152 355.257 Q69.3254 355.257 72.3809 359.863 Q75.4596 364.447 75.4596 373.197 Q75.4596 381.923 72.3809 386.53 Q69.3254 391.113 63.5152 391.113 Q57.7051 391.113 54.6264 386.53 Q51.5708 381.923 51.5708 373.197 Q51.5708 364.447 54.6264 359.863 Q57.7051 355.257 63.5152 355.257 Z\" fill=\"#000000\" fill-rule=\"evenodd\" fill-opacity=\"1\" /><path clip-path=\"url(#clip230)\" d=\"M83.6771 384.562 L88.5614 384.562 L88.5614 390.442 L83.6771 390.442 L83.6771 384.562 Z\" fill=\"#000000\" fill-rule=\"evenodd\" fill-opacity=\"1\" /><path clip-path=\"url(#clip230)\" d=\"M108.746 374.03 Q105.413 374.03 103.492 375.812 Q101.594 377.595 101.594 380.72 Q101.594 383.845 103.492 385.627 Q105.413 387.409 108.746 387.409 Q112.08 387.409 114.001 385.627 Q115.922 383.821 115.922 380.72 Q115.922 377.595 114.001 375.812 Q112.103 374.03 108.746 374.03 M104.071 372.039 Q101.061 371.298 99.3715 369.238 Q97.7048 367.178 97.7048 364.215 Q97.7048 360.072 100.645 357.664 Q103.608 355.257 108.746 355.257 Q113.908 355.257 116.848 357.664 Q119.788 360.072 119.788 364.215 Q119.788 367.178 118.098 369.238 Q116.432 371.298 113.445 372.039 Q116.825 372.826 118.7 375.118 Q120.598 377.409 120.598 380.72 Q120.598 385.743 117.52 388.428 Q114.464 391.113 108.746 391.113 Q103.029 391.113 99.9502 388.428 Q96.8947 385.743 96.8947 380.72 Q96.8947 377.409 98.7928 375.118 Q100.691 372.826 104.071 372.039 M102.358 364.655 Q102.358 367.34 104.024 368.845 Q105.714 370.349 108.746 370.349 Q111.756 370.349 113.445 368.845 Q115.158 367.34 115.158 364.655 Q115.158 361.97 113.445 360.465 Q111.756 358.961 108.746 358.961 Q105.714 358.961 104.024 360.465 Q102.358 361.97 102.358 364.655 Z\" fill=\"#000000\" fill-rule=\"evenodd\" fill-opacity=\"1\" /><path clip-path=\"url(#clip230)\" d=\"M54.2328 101.321 L61.8717 101.321 L61.8717 74.9555 L53.5616 76.6222 L53.5616 72.3629 L61.8254 70.6963 L66.5013 70.6963 L66.5013 101.321 L74.1402 101.321 L74.1402 105.256 L54.2328 105.256 L54.2328 101.321 Z\" fill=\"#000000\" fill-rule=\"evenodd\" fill-opacity=\"1\" /><path clip-path=\"url(#clip230)\" d=\"M83.5845 99.3767 L88.4688 99.3767 L88.4688 105.256 L83.5845 105.256 L83.5845 99.3767 Z\" fill=\"#000000\" fill-rule=\"evenodd\" fill-opacity=\"1\" /><path clip-path=\"url(#clip230)\" d=\"M108.654 73.775 Q105.043 73.775 103.214 77.3398 Q101.409 80.8814 101.409 88.011 Q101.409 95.1174 103.214 98.6822 Q105.043 102.224 108.654 102.224 Q112.288 102.224 114.094 98.6822 Q115.922 95.1174 115.922 88.011 Q115.922 80.8814 114.094 77.3398 Q112.288 73.775 108.654 73.775 M108.654 70.0713 Q114.464 70.0713 117.52 74.6777 Q120.598 79.261 120.598 88.011 Q120.598 96.7378 117.52 101.344 Q114.464 105.928 108.654 105.928 Q102.844 105.928 99.765 101.344 Q96.7095 96.7378 96.7095 88.011 Q96.7095 79.261 99.765 74.6777 Q102.844 70.0713 108.654 70.0713 Z\" fill=\"#000000\" fill-rule=\"evenodd\" fill-opacity=\"1\" /><circle clip-path=\"url(#clip232)\" cx=\"2290.6\" cy=\"87.9763\" r=\"14.4\" fill=\"#009af9\" fill-rule=\"evenodd\" fill-opacity=\"1\" stroke=\"#000000\" stroke-opacity=\"1\" stroke-width=\"3.2\"/>\n",
       "<circle clip-path=\"url(#clip232)\" cx=\"469.269\" cy=\"689.01\" r=\"14.4\" fill=\"#009af9\" fill-rule=\"evenodd\" fill-opacity=\"1\" stroke=\"#000000\" stroke-opacity=\"1\" stroke-width=\"3.2\"/>\n",
       "<circle clip-path=\"url(#clip232)\" cx=\"790.62\" cy=\"735.072\" r=\"14.4\" fill=\"#009af9\" fill-rule=\"evenodd\" fill-opacity=\"1\" stroke=\"#000000\" stroke-opacity=\"1\" stroke-width=\"3.2\"/>\n",
       "<circle clip-path=\"url(#clip232)\" cx=\"218.754\" cy=\"1445.72\" r=\"14.4\" fill=\"#009af9\" fill-rule=\"evenodd\" fill-opacity=\"1\" stroke=\"#000000\" stroke-opacity=\"1\" stroke-width=\"3.2\"/>\n",
       "<circle clip-path=\"url(#clip232)\" cx=\"287.744\" cy=\"1177.1\" r=\"14.4\" fill=\"#009af9\" fill-rule=\"evenodd\" fill-opacity=\"1\" stroke=\"#000000\" stroke-opacity=\"1\" stroke-width=\"3.2\"/>\n",
       "<circle clip-path=\"url(#clip232)\" cx=\"2290.6\" cy=\"87.9763\" r=\"14.4\" fill=\"#e26f46\" fill-rule=\"evenodd\" fill-opacity=\"1\" stroke=\"#000000\" stroke-opacity=\"1\" stroke-width=\"3.2\"/>\n",
       "<circle clip-path=\"url(#clip232)\" cx=\"440.354\" cy=\"780.596\" r=\"14.4\" fill=\"#e26f46\" fill-rule=\"evenodd\" fill-opacity=\"1\" stroke=\"#000000\" stroke-opacity=\"1\" stroke-width=\"3.2\"/>\n",
       "<circle clip-path=\"url(#clip232)\" cx=\"622.466\" cy=\"976.897\" r=\"14.4\" fill=\"#e26f46\" fill-rule=\"evenodd\" fill-opacity=\"1\" stroke=\"#000000\" stroke-opacity=\"1\" stroke-width=\"3.2\"/>\n",
       "<circle clip-path=\"url(#clip232)\" cx=\"243.618\" cy=\"1357.98\" r=\"14.4\" fill=\"#e26f46\" fill-rule=\"evenodd\" fill-opacity=\"1\" stroke=\"#000000\" stroke-opacity=\"1\" stroke-width=\"3.2\"/>\n",
       "<circle clip-path=\"url(#clip232)\" cx=\"296.647\" cy=\"1227.27\" r=\"14.4\" fill=\"#e26f46\" fill-rule=\"evenodd\" fill-opacity=\"1\" stroke=\"#000000\" stroke-opacity=\"1\" stroke-width=\"3.2\"/>\n",
       "<path clip-path=\"url(#clip230)\" d=\"\n",
       "M1983.1 250.738 L2279.55 250.738 L2279.55 95.2176 L1983.1 95.2176  Z\n",
       "  \" fill=\"#ffffff\" fill-rule=\"evenodd\" fill-opacity=\"1\"/>\n",
       "<polyline clip-path=\"url(#clip230)\" style=\"stroke:#000000; stroke-linecap:round; stroke-linejoin:round; stroke-width:4; stroke-opacity:1; fill:none\" points=\"\n",
       "  1983.1,250.738 2279.55,250.738 2279.55,95.2176 1983.1,95.2176 1983.1,250.738 \n",
       "  \"/>\n",
       "<circle clip-path=\"url(#clip230)\" cx=\"2080.71\" cy=\"147.058\" r=\"23.04\" fill=\"#009af9\" fill-rule=\"evenodd\" fill-opacity=\"1\" stroke=\"#000000\" stroke-opacity=\"1\" stroke-width=\"5.12\"/>\n",
       "<path clip-path=\"url(#clip230)\" d=\"M2192.16 166.745 Q2190.35 171.375 2188.64 172.787 Q2186.93 174.199 2184.06 174.199 L2180.65 174.199 L2180.65 170.634 L2183.15 170.634 Q2184.91 170.634 2185.89 169.8 Q2186.86 168.967 2188.04 165.865 L2188.8 163.921 L2178.32 138.412 L2182.83 138.412 L2190.93 158.689 L2199.03 138.412 L2203.55 138.412 L2192.16 166.745 Z\" fill=\"#000000\" fill-rule=\"evenodd\" fill-opacity=\"1\" /><path clip-path=\"url(#clip230)\" d=\"M2210.84 160.402 L2218.48 160.402 L2218.48 134.037 L2210.17 135.703 L2210.17 131.444 L2218.43 129.778 L2223.11 129.778 L2223.11 160.402 L2230.75 160.402 L2230.75 164.338 L2210.84 164.338 L2210.84 160.402 Z\" fill=\"#000000\" fill-rule=\"evenodd\" fill-opacity=\"1\" /><circle clip-path=\"url(#clip230)\" cx=\"2080.71\" cy=\"198.898\" r=\"23.04\" fill=\"#e26f46\" fill-rule=\"evenodd\" fill-opacity=\"1\" stroke=\"#000000\" stroke-opacity=\"1\" stroke-width=\"5.12\"/>\n",
       "<path clip-path=\"url(#clip230)\" d=\"M2192.16 218.585 Q2190.35 223.215 2188.64 224.627 Q2186.93 226.039 2184.06 226.039 L2180.65 226.039 L2180.65 222.474 L2183.15 222.474 Q2184.91 222.474 2185.89 221.64 Q2186.86 220.807 2188.04 217.705 L2188.8 215.761 L2178.32 190.252 L2182.83 190.252 L2190.93 210.529 L2199.03 190.252 L2203.55 190.252 L2192.16 218.585 Z\" fill=\"#000000\" fill-rule=\"evenodd\" fill-opacity=\"1\" /><path clip-path=\"url(#clip230)\" d=\"M2214.06 212.242 L2230.38 212.242 L2230.38 216.178 L2208.43 216.178 L2208.43 212.242 Q2211.09 209.488 2215.68 204.858 Q2220.28 200.205 2221.46 198.863 Q2223.71 196.34 2224.59 194.604 Q2225.49 192.844 2225.49 191.155 Q2225.49 188.4 2223.55 186.664 Q2221.63 184.928 2218.52 184.928 Q2216.33 184.928 2213.87 185.692 Q2211.44 186.455 2208.66 188.006 L2208.66 183.284 Q2211.49 182.15 2213.94 181.571 Q2216.4 180.993 2218.43 180.993 Q2223.8 180.993 2227 183.678 Q2230.19 186.363 2230.19 190.854 Q2230.19 192.983 2229.38 194.905 Q2228.59 196.803 2226.49 199.395 Q2225.91 200.067 2222.81 203.284 Q2219.71 206.479 2214.06 212.242 Z\" fill=\"#000000\" fill-rule=\"evenodd\" fill-opacity=\"1\" /></svg>\n"
      ]
     },
     "execution_count": 195,
     "metadata": {},
     "output_type": "execute_result"
    }
   ],
   "source": [
    "scatter(AUCbulk,AUCE)"
   ]
  },
  {
   "cell_type": "code",
   "execution_count": 232,
   "id": "a8844ad5-20ea-4894-98d9-7d2a20aaa969",
   "metadata": {},
   "outputs": [],
   "source": [
    "b=[\"0\", \"50\", \"100\", \"200\", \"300\", \"400\"]\n",
    "AUCbulk=zeros(6,2)\n",
    "AUCE=zeros(6,2)\n",
    "j=0\n",
    "for char in b\n",
    "    j=j+1\n",
    "    k=0\n",
    "    for char2 in [\"1\",\"2\"]\n",
    "        k=k+1\n",
    "        fullbed=readdlm(\"HMR bedgraphs\\\\Sir4V5_DSSY744_\"*char*\"nM_Rep\"*char2*\".bedgraph\")\n",
    "        chrIII=fullbed[fullbed[:,1].==\"III\",:]\n",
    "        Esil=chrIII[chrIII[:,2].>286622 .&& chrIII[:,2].<287122,:]\n",
    "        for i in 1:size(Esil)[1]\n",
    "            if Esil[i,4]<1.0\n",
    "                Esil[i,4]=0.0\n",
    "            else\n",
    "                Esil[i,4]=Esil[i,4]-1.0\n",
    "            end\n",
    "        end\n",
    "        HMRbulk=chrIII[chrIII[:,2].>287122 .&& chrIII[:,2].<288941,:]\n",
    "        for i in 1:size(HMRbulk)[1]\n",
    "            if HMRbulk[i,4]<1.0\n",
    "                HMRbulk[i,4]=0.0\n",
    "            else\n",
    "                HMRbulk[i,4]=HMRbulk[i,4]-1.0\n",
    "            end\n",
    "        end\n",
    "        #Measure AUC.\n",
    "        AUC=0.0 \n",
    "        for i in 1:(size(HMRbulk)[1]-1)\n",
    "        #Units bp*ChIP.A.U.\n",
    "        AUC=AUC+0.5*(HMRbulk[i,4]+HMRbulk[i+1,4])\n",
    "        end   \n",
    "        AUCbulk[j,k]=AUC\n",
    "        #Now the silencer\n",
    "        AUC=0.0 \n",
    "        for i in 1:(size(Esil)[1]-1)\n",
    "        #Units bp*ChIP.A.U.\n",
    "        AUC=AUC+0.5*(Esil[i,4]+Esil[i+1,4])\n",
    "        end   \n",
    "        AUCE[j,k]=AUC\n",
    "    end\n",
    "end\n",
    "for k in 1:2   \n",
    "    normbulk=AUCbulk[5,k]\n",
    "    normE=AUCE[5,k]\n",
    "    for i in 1:size(AUCbulk)[1]\n",
    "        AUCbulk[i,k]=AUCbulk[i,k]/normbulk\n",
    "        AUCE[i,k]=AUCE[i,k]/normE\n",
    "    end\n",
    "end"
   ]
  },
  {
   "cell_type": "code",
   "execution_count": 238,
   "id": "1a9d2ff4-bc38-40b8-8eb5-2d8fda3ae3e4",
   "metadata": {},
   "outputs": [],
   "source": [
    "using Statistics\n",
    "meanE=zeros(6)\n",
    "meanbulk=zeros(6)\n",
    "devE=zeros(6)\n",
    "devbulk=zeros(6)\n",
    "for i in 1:6\n",
    "    meanE[i]=mean(AUCE[i,:])\n",
    "    meanbulk[i]=mean(AUCbulk[i,:])\n",
    "    devE[i]=std(AUCE[i,:])\n",
    "    devbulk[i]=std(AUCbulk[i,:])\n",
    "end"
   ]
  },
  {
   "cell_type": "code",
   "execution_count": 239,
   "id": "9bfbad3d-eda9-455b-bfd8-0ad43653fc23",
   "metadata": {},
   "outputs": [],
   "source": [
    "outputTitr=transpose([transpose(meanbulk);transpose(meanE);transpose(devbulk);transpose(devE)])\n",
    "writedlm(\"bulk_vs_HMRE_titr_xyerror.txt\",outputTitr)"
   ]
  },
  {
   "cell_type": "code",
   "execution_count": 240,
   "id": "98a6b9df-4511-4a7a-aafd-8d8bac16b75e",
   "metadata": {},
   "outputs": [
    {
     "data": {
      "text/plain": [
       "6×4 transpose(::Matrix{Float64}) with eltype Float64:\n",
       " 0.00701884  0.00858343  0.00187349  0.00205489\n",
       " 0.0164992   0.01752     0.0115468   0.0189104\n",
       " 0.17173     0.292548    0.0206197   0.0313847\n",
       " 0.786852    0.873299    0.0308592   0.0453118\n",
       " 1.0         1.0         0.0         0.0\n",
       " 0.529663    0.46025     0.0453461   0.0282951"
      ]
     },
     "execution_count": 240,
     "metadata": {},
     "output_type": "execute_result"
    }
   ],
   "source": [
    "outputTitr"
   ]
  },
  {
   "cell_type": "code",
   "execution_count": 237,
   "id": "b060c848-b10c-4a97-b58f-7e1f264c59df",
   "metadata": {},
   "outputs": [
    {
     "data": {
      "text/plain": [
       "6×2 Matrix{Float64}:\n",
       " 0.0083436  0.00569408\n",
       " 0.0246641  0.00833437\n",
       " 0.18631    0.157149\n",
       " 0.808673   0.765031\n",
       " 1.0        1.0\n",
       " 0.561728   0.497599"
      ]
     },
     "execution_count": 237,
     "metadata": {},
     "output_type": "execute_result"
    }
   ],
   "source": [
    "AUCbulk"
   ]
  }
 ],
 "metadata": {
  "kernelspec": {
   "display_name": "Julia 1.8.1",
   "language": "julia",
   "name": "julia-1.8"
  },
  "language_info": {
   "file_extension": ".jl",
   "mimetype": "application/julia",
   "name": "julia",
   "version": "1.8.1"
  }
 },
 "nbformat": 4,
 "nbformat_minor": 5
}
